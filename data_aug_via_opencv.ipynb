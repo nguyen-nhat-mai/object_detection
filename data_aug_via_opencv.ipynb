{
 "cells": [
  {
   "cell_type": "code",
   "execution_count": 1,
   "metadata": {},
   "outputs": [
    {
     "name": "stdout",
     "output_type": "stream",
     "text": [
      "hello world\n"
     ]
    }
   ],
   "source": [
    "print(\"hello world\")"
   ]
  },
  {
   "cell_type": "code",
   "execution_count": 4,
   "metadata": {},
   "outputs": [
    {
     "name": "stdout",
     "output_type": "stream",
     "text": [
      "Collecting opencv-python\n",
      "  Using cached opencv_python-4.7.0.72-cp37-abi3-win_amd64.whl (38.2 MB)\n",
      "Requirement already satisfied: numpy>=1.21.2 in c:\\users\\lenaa\\appdata\\local\\continuum\\miniconda3\\envs\\dl_segmentation\\lib\\site-packages (from opencv-python) (1.23.5)\n",
      "Installing collected packages: opencv-python\n",
      "Successfully installed opencv-python-4.7.0.72\n"
     ]
    }
   ],
   "source": [
    "!pip install opencv-python\n"
   ]
  },
  {
   "cell_type": "code",
   "execution_count": 6,
   "metadata": {},
   "outputs": [
    {
     "name": "stdout",
     "output_type": "stream",
     "text": [
      "Collecting albumentations\n",
      "  Downloading albumentations-1.3.0-py3-none-any.whl (123 kB)\n",
      "     -------------------------------------- 123.5/123.5 kB 3.5 MB/s eta 0:00:00\n",
      "Collecting scipy\n",
      "  Downloading scipy-1.10.1-cp310-cp310-win_amd64.whl (42.5 MB)\n",
      "     -------------------------------------- 42.5/42.5 MB 899.2 kB/s eta 0:00:00\n",
      "Requirement already satisfied: numpy>=1.11.1 in c:\\users\\lenaa\\appdata\\local\\continuum\\miniconda3\\envs\\dl_segmentation\\lib\\site-packages (from albumentations) (1.23.5)\n",
      "Collecting scikit-image>=0.16.1\n",
      "  Downloading scikit_image-0.20.0-cp310-cp310-win_amd64.whl (23.7 MB)\n",
      "     ---------------------------------------- 23.7/23.7 MB 1.9 MB/s eta 0:00:00\n",
      "Collecting PyYAML\n",
      "  Downloading PyYAML-6.0-cp310-cp310-win_amd64.whl (151 kB)\n",
      "     -------------------------------------- 151.7/151.7 kB 8.8 MB/s eta 0:00:00\n",
      "Collecting qudida>=0.0.4\n",
      "  Downloading qudida-0.0.4-py3-none-any.whl (3.5 kB)\n",
      "Collecting opencv-python-headless>=4.1.1\n",
      "  Downloading opencv_python_headless-4.7.0.72-cp37-abi3-win_amd64.whl (38.1 MB)\n",
      "     ---------------------                    20.2/38.1 MB 2.3 MB/s eta 0:00:08\n"
     ]
    },
    {
     "name": "stderr",
     "output_type": "stream",
     "text": [
      "ERROR: Could not install packages due to an OSError: [Errno 28] No space left on device\n",
      "\n"
     ]
    }
   ],
   "source": [
    "!pip install albumentations"
   ]
  },
  {
   "cell_type": "code",
   "execution_count": 5,
   "metadata": {},
   "outputs": [
    {
     "ename": "ModuleNotFoundError",
     "evalue": "No module named 'pandas'",
     "output_type": "error",
     "traceback": [
      "\u001b[1;31m---------------------------------------------------------------------------\u001b[0m",
      "\u001b[1;31mModuleNotFoundError\u001b[0m                       Traceback (most recent call last)",
      "\u001b[1;32mc:\\Users\\lenaa\\Desktop\\3A Centrale\\CRP\\object_detection\\data_aug_via_opencv.ipynb Cell 3\u001b[0m in \u001b[0;36m<cell line: 2>\u001b[1;34m()\u001b[0m\n\u001b[0;32m      <a href='vscode-notebook-cell:/c%3A/Users/lenaa/Desktop/3A%20Centrale/CRP/object_detection/data_aug_via_opencv.ipynb#W1sZmlsZQ%3D%3D?line=0'>1</a>\u001b[0m \u001b[39mimport\u001b[39;00m \u001b[39mcv2\u001b[39;00m\n\u001b[1;32m----> <a href='vscode-notebook-cell:/c%3A/Users/lenaa/Desktop/3A%20Centrale/CRP/object_detection/data_aug_via_opencv.ipynb#W1sZmlsZQ%3D%3D?line=1'>2</a>\u001b[0m \u001b[39mimport\u001b[39;00m \u001b[39mpandas\u001b[39;00m \u001b[39mas\u001b[39;00m \u001b[39mpd\u001b[39;00m\n\u001b[0;32m      <a href='vscode-notebook-cell:/c%3A/Users/lenaa/Desktop/3A%20Centrale/CRP/object_detection/data_aug_via_opencv.ipynb#W1sZmlsZQ%3D%3D?line=2'>3</a>\u001b[0m \u001b[39mimport\u001b[39;00m \u001b[39mnumpy\u001b[39;00m \u001b[39mas\u001b[39;00m \u001b[39mnp\u001b[39;00m\n\u001b[0;32m      <a href='vscode-notebook-cell:/c%3A/Users/lenaa/Desktop/3A%20Centrale/CRP/object_detection/data_aug_via_opencv.ipynb#W1sZmlsZQ%3D%3D?line=3'>4</a>\u001b[0m \u001b[39mimport\u001b[39;00m \u001b[39mos\u001b[39;00m\n",
      "\u001b[1;31mModuleNotFoundError\u001b[0m: No module named 'pandas'"
     ]
    }
   ],
   "source": [
    "import cv2\n",
    "import pandas as pd\n",
    "import numpy as np\n",
    "import os\n",
    "from matplotlib import pyplot as plt\n",
    "from matplotlib.patches import Rectangle\n",
    "from decimal import Decimal\n",
    "import albumentations as A"
   ]
  },
  {
   "cell_type": "code",
   "execution_count": null,
   "metadata": {},
   "outputs": [],
   "source": [
    "# Convert box coordinate from yolo to voc\n",
    "def yoloFormattocv(x1, y1, x2, y2, H, W):\n",
    "    bbox_width = x2 * W\n",
    "    bbox_height = y2 * H\n",
    "    center_x = x1 * W\n",
    "    center_y = y1 * H\n",
    "    voc = []\n",
    "    voc.append(center_x - (bbox_width / 2))\n",
    "    voc.append(center_y - (bbox_height / 2))\n",
    "    voc.append(center_x + (bbox_width / 2))\n",
    "    voc.append(center_y + (bbox_height / 2))\n",
    "    return [int(v) for v in voc]"
   ]
  },
  {
   "cell_type": "code",
   "execution_count": null,
   "metadata": {},
   "outputs": [],
   "source": [
    "# Plot yolo box\n",
    "box_color = {0:'blue',1:'orange',2:'green',3:'purple',4:'brown',5:'pink',\n",
    "             6:'gray',7:'olive',8:'cyan',9:'gold',10:'turquoise',11:'navy',12:'yellow',13:'red'}\n",
    "box_name = {0:'RazorBlade',1:'SafetyPin',2:'PaperClip',3:'Pen',4:'ThinNail',5:'Screw',\n",
    "            6:'HandGun',7:'VgaConnector',8:'Knife',9:'MultiPurposeKnife',10:'Key',11:'Plier',12:'Shuriken',13:'Scissor'}\n",
    "def plot_box(box_yolo_coordinates, height, width):\n",
    "  ''' Input: list of boxes\n",
    "      Output: plot of boxes'''\n",
    "  for row in box_yolo_coordinates:\n",
    "    bbox = row.strip('\\n').split(' ')\n",
    "    [x1,y1,x2,y2] = yoloFormattocv(Decimal(bbox[1]),Decimal(bbox[2]),Decimal(bbox[3]),Decimal(bbox[4]),height, width)\n",
    "    plt.gca().add_patch(Rectangle((x1,y1),x2-x1,y2-y1, edgecolor=box_color[int(bbox[0])], facecolor='none', lw=1))\n",
    "    plt.annotate(box_name[int(bbox[0])], ((x2+x1)/2, (y2+y1)/2), \n",
    "                 color=box_color[int(bbox[0])], weight='bold', fontsize=10, ha='center', va='center') # label at the center of the box"
   ]
  },
  {
   "cell_type": "code",
   "execution_count": null,
   "metadata": {},
   "outputs": [],
   "source": [
    "def cvFormattoYolo(corner, H, W):\n",
    "    ''' Input: list of coordinates in voc format ['label','x1','y1','x2','y2']\n",
    "        Output: list of coordinates in yolo format 'label x_center y_center box_width box_height' '''\n",
    "    bbox_W = corner[3] - corner[1]\n",
    "    bbox_H = corner[4] - corner[2]\n",
    "\n",
    "    center_bbox_x = (corner[1] + corner[3]) / 2\n",
    "    center_bbox_y = (corner[2] + corner[4]) / 2\n",
    "\n",
    "    return corner[0]+' '+str(round(center_bbox_x / W, 6))+' '+str(round(center_bbox_y / H, 6))+' '+str(round(bbox_W / W, 6))+' '+str(round(bbox_H / H, 6))"
   ]
  },
  {
   "cell_type": "code",
   "execution_count": null,
   "metadata": {},
   "outputs": [],
   "source": [
    "# Plot test image and its box\n",
    "image_name = 'B0072_0001'\n",
    "image_ext = '.png'\n",
    "image = cv2.imread(image_name + image_ext)\n",
    "plt.rcParams[\"figure.figsize\"] = (20,10)\n",
    "plt.imshow(image)\n",
    "\n",
    "height, width,_ = image.shape\n",
    "f = open(image_name + '.txt', 'r')\n",
    "box_list = f.readlines()\n",
    "plot_box(box_list, height, width)\n",
    "box_list"
   ]
  },
  {
   "cell_type": "code",
   "execution_count": null,
   "metadata": {},
   "outputs": [],
   "source": [
    "# Rotate 90 degree\n",
    "im = yoloRotatebbox(image_name, image_ext, 90)\n",
    "image_30 = im.rotate_image()\n",
    "bbox_30 = im.rotateYolobbox()\n",
    "\n",
    "plt.rcParams[\"figure.figsize\"] = (20,10)\n",
    "plt.imshow(image_30)\n",
    "plot_box(bbox_30, height, width)"
   ]
  },
  {
   "cell_type": "code",
   "execution_count": null,
   "metadata": {},
   "outputs": [],
   "source": [
    "# Rotate 30 degree\n",
    "im = yoloRotatebbox(image_name, image_ext, 30)\n",
    "image_30 = im.rotate_image()\n",
    "bbox_30 = im.rotateYolobbox()\n",
    "\n",
    "plt.rcParams[\"figure.figsize\"] = (30,15)\n",
    "plt.imshow(image_30)\n",
    "plot_box(bbox_30, height, width)"
   ]
  },
  {
   "cell_type": "code",
   "execution_count": null,
   "metadata": {},
   "outputs": [],
   "source": [
    "transform = A.Compose([\n",
    "\n",
    "    A.RandomCrop(width=450, height=450),\n",
    "    A.ShiftScaleRotate(p=0.5),\n",
    "    A.HorizontalFlip(p=0.5),\n",
    "    A.RandomBrightnessContrast(p=0.2),\n",
    "    A.MedianBlur(blur_limit=7, always_apply=False, p=0.2),\n",
    "\n",
    "    \n",
    "],bbox_params=A.BboxParams(format='yolo'))"
   ]
  }
 ],
 "metadata": {
  "kernelspec": {
   "display_name": "Python 3",
   "language": "python",
   "name": "python3"
  },
  "language_info": {
   "codemirror_mode": {
    "name": "ipython",
    "version": 3
   },
   "file_extension": ".py",
   "mimetype": "text/x-python",
   "name": "python",
   "nbconvert_exporter": "python",
   "pygments_lexer": "ipython3",
   "version": "3.10.8"
  },
  "orig_nbformat": 4,
  "vscode": {
   "interpreter": {
    "hash": "3f6a4ad5f3d3928d9a1097013b395553b0cfad4f2e00b5ece98bd5b02544a8d9"
   }
  }
 },
 "nbformat": 4,
 "nbformat_minor": 2
}
