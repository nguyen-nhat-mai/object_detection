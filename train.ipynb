{
  "nbformat": 4,
  "nbformat_minor": 0,
  "metadata": {
    "colab": {
      "provenance": [],
      "collapsed_sections": [
        "bEIxLGWmBTmQ"
      ],
      "machine_shape": "hm",
      "gpuType": "A100",
      "include_colab_link": true
    },
    "kernelspec": {
      "name": "python3",
      "display_name": "Python 3"
    },
    "language_info": {
      "name": "python"
    },
    "gpuClass": "standard",
    "accelerator": "GPU"
  },
  "cells": [
    {
      "cell_type": "markdown",
      "metadata": {
        "id": "view-in-github",
        "colab_type": "text"
      },
      "source": [
        "<a href=\"https://colab.research.google.com/github/nguyen-nhat-mai/object_detection/blob/main/train.ipynb\" target=\"_parent\"><img src=\"https://colab.research.google.com/assets/colab-badge.svg\" alt=\"Open In Colab\"/></a>"
      ]
    },
    {
      "cell_type": "markdown",
      "source": [
        "#Model setup and initial installations"
      ],
      "metadata": {
        "id": "Q5PCeRpVHI_J"
      }
    },
    {
      "cell_type": "code",
      "execution_count": null,
      "metadata": {
        "id": "TMplOsdzMINB",
        "colab": {
          "base_uri": "https://localhost:8080/"
        },
        "outputId": "d7eed045-c3c7-4013-b095-1410dccedced"
      },
      "outputs": [
        {
          "output_type": "stream",
          "name": "stdout",
          "text": [
            "Mounted at /content/drive\n"
          ]
        }
      ],
      "source": [
        "from google.colab import drive\n",
        "drive = drive.mount('/content/drive')"
      ]
    },
    {
      "cell_type": "code",
      "source": [
        "#Installing the yolov5 setup\n",
        "!git clone https://github.com/ultralytics/yolov5  # clone\n",
        "%cd yolov5\n",
        "%pip install -qr requirements.txt  # install\n",
        "\n",
        "import torch\n",
        "import os\n",
        "import utils\n",
        "display = utils.notebook_init()  # checks"
      ],
      "metadata": {
        "id": "14eLa3IGMSgu",
        "colab": {
          "base_uri": "https://localhost:8080/"
        },
        "outputId": "40c231a5-c603-407d-8fc8-be6ea1ac9b4a"
      },
      "execution_count": null,
      "outputs": [
        {
          "output_type": "stream",
          "name": "stderr",
          "text": [
            "YOLOv5 🚀 v7.0-165-ge382d4c Python-3.10.11 torch-2.0.0+cu118 CUDA:0 (NVIDIA A100-SXM4-40GB, 40514MiB)\n"
          ]
        },
        {
          "output_type": "stream",
          "name": "stdout",
          "text": [
            "Setup complete ✅ (12 CPUs, 83.5 GB RAM, 23.4/166.8 GB disk)\n"
          ]
        }
      ]
    },
    {
      "cell_type": "code",
      "source": [
        "print(f\"Setup complete. Using torch {torch.__version__} ({torch.cuda.get_device_properties(0).name if torch.cuda.is_available() else 'CPU'})\")"
      ],
      "metadata": {
        "colab": {
          "base_uri": "https://localhost:8080/"
        },
        "id": "BSaUTUOFpphw",
        "outputId": "dfe6f4bb-1588-4b24-d870-332ebba4c7ab"
      },
      "execution_count": null,
      "outputs": [
        {
          "output_type": "stream",
          "name": "stdout",
          "text": [
            "Setup complete. Using torch 2.0.0+cu118 (NVIDIA A100-SXM4-40GB)\n"
          ]
        }
      ]
    },
    {
      "cell_type": "markdown",
      "source": [
        "Link of the general documentation: https://docs.ultralytics.com/yolov5/"
      ],
      "metadata": {
        "id": "oIAaI9-gGd3P"
      }
    },
    {
      "cell_type": "markdown",
      "source": [
        "#Download and preparation of the dataset\n",
        "We need a dataset organized as follow:\n",
        "\n",
        "  -3 folders train, val and test\n",
        "\n",
        "  -In each of these folder, a folder labels and a folder images\n",
        "\n",
        "  The hyp.custom.airportscanner.yaml file contains hyperparameters (such as learning rate, losses parameters, etc.) that can be modified for the training.\n",
        "\n",
        "  The dataset.airportscanner.yaml file contains information about labels and paths for the dataset.\n",
        "\n",
        "  Note that this notebook have been configured to be used on GoogleColab and that the model is based on Pytorch."
      ],
      "metadata": {
        "id": "ptU4VtlDrqwx"
      }
    },
    {
      "cell_type": "code",
      "source": [
        "#Copy the dataset to the good location\n",
        "newpath = '/content/yolov5/datasets/airportscanner' \n",
        "if not os.path.exists(newpath):\n",
        "    os.makedirs(newpath)\n",
        "\n",
        "#/content/drive/MyDrive/CRPSharedFolder/CRP__Dataset_Repartition = the path of your dataset\n",
        "%cp -R /content/drive/MyDrive/CRP_Shared_Folder/CRP__Dataset_Repartition/Scenario_14 /content/yolov5/datasets/airportscanner \n",
        "%cp -R /content/drive/MyDrive/CRP_Shared_Folder/CRP__Dataset_Repartition/valid /content/yolov5/datasets/airportscanner \n",
        "%cp -R /content/drive/MyDrive/CRP_Shared_Folder/CRP__Dataset_Repartition/test /content/yolov5/datasets/airportscanner "
      ],
      "metadata": {
        "id": "qz8OaV152bPH"
      },
      "execution_count": null,
      "outputs": []
    },
    {
      "cell_type": "code",
      "source": [
        "# Change the folder name to train if needed\n",
        "os.rename('/content/yolov5/datasets/airportscanner/Scenario_14', '/content/yolov5/datasets/airportscanner/train')"
      ],
      "metadata": {
        "id": "Lct1Lqm1mm5V"
      },
      "execution_count": null,
      "outputs": []
    },
    {
      "cell_type": "code",
      "source": [
        "#Download the custom hyperparameter files (you can change the hyperparameters by modifying these files)\n",
        "!wget -P /content/yolov5/datasets/airportscanner https://raw.githubusercontent.com/nguyen-nhat-mai/object_detection/main/data/hyp.custom.airportscanner.finetuning.yaml\n",
        "!wget -P /content/yolov5/datasets/airportscanner https://raw.githubusercontent.com/nguyen-nhat-mai/object_detection/main/data/hyp.custom.airportscanner.headtraining.yaml\n",
        "#Download the information file regarding the dataset. It describes the classes as well as the train/val/test paths\n",
        "!wget -P /content/yolov5/datasets/airportscanner https://raw.githubusercontent.com/nguyen-nhat-mai/object_detection/model_maxime/dataset.airportscanner.yaml"
      ],
      "metadata": {
        "id": "9gEWa6gl_NmS",
        "outputId": "a0643b8e-64d3-49ce-802e-ac5cb7be8c21",
        "colab": {
          "base_uri": "https://localhost:8080/"
        }
      },
      "execution_count": null,
      "outputs": [
        {
          "output_type": "stream",
          "name": "stdout",
          "text": [
            "--2023-05-09 15:32:11--  https://raw.githubusercontent.com/nguyen-nhat-mai/object_detection/model_maxime/hyp.custom.airportscanner.yaml\n",
            "Resolving raw.githubusercontent.com (raw.githubusercontent.com)... 185.199.108.133, 185.199.109.133, 185.199.110.133, ...\n",
            "Connecting to raw.githubusercontent.com (raw.githubusercontent.com)|185.199.108.133|:443... connected.\n",
            "HTTP request sent, awaiting response... 200 OK\n",
            "Length: 1407 (1.4K) [text/plain]\n",
            "Saving to: ‘/content/yolov5/datasets/airportscanner/hyp.custom.airportscanner.yaml’\n",
            "\n",
            "\r          hyp.custo   0%[                    ]       0  --.-KB/s               \rhyp.custom.airports 100%[===================>]   1.37K  --.-KB/s    in 0s      \n",
            "\n",
            "2023-05-09 15:32:11 (39.1 MB/s) - ‘/content/yolov5/datasets/airportscanner/hyp.custom.airportscanner.yaml’ saved [1407/1407]\n",
            "\n",
            "--2023-05-09 15:32:11--  https://raw.githubusercontent.com/nguyen-nhat-mai/object_detection/model_maxime/dataset.airportscanner.yaml\n",
            "Resolving raw.githubusercontent.com (raw.githubusercontent.com)... 185.199.111.133, 185.199.109.133, 185.199.108.133, ...\n",
            "Connecting to raw.githubusercontent.com (raw.githubusercontent.com)|185.199.111.133|:443... connected.\n",
            "HTTP request sent, awaiting response... 200 OK\n",
            "Length: 728 [text/plain]\n",
            "Saving to: ‘/content/yolov5/datasets/airportscanner/dataset.airportscanner.yaml’\n",
            "\n",
            "dataset.airportscan 100%[===================>]     728  --.-KB/s    in 0s      \n",
            "\n",
            "2023-05-09 15:32:12 (48.4 MB/s) - ‘/content/yolov5/datasets/airportscanner/dataset.airportscanner.yaml’ saved [728/728]\n",
            "\n"
          ]
        }
      ]
    },
    {
      "cell_type": "markdown",
      "source": [
        "#Training"
      ],
      "metadata": {
        "id": "VOqXbCGMTEmp"
      }
    },
    {
      "cell_type": "markdown",
      "source": [
        "Do not forgot to save your best model after training!\n",
        "Note that, plots, predicted images examples and other can be found in the runs/train folder"
      ],
      "metadata": {
        "id": "jL6NTxdjBTMN"
      }
    },
    {
      "cell_type": "code",
      "source": [
        "%cd /content/yolov5 #Ensure you are in the good location"
      ],
      "metadata": {
        "id": "_S6XfQKmAzgQ"
      },
      "execution_count": null,
      "outputs": []
    },
    {
      "cell_type": "code",
      "source": [
        "#Initial training of the head of the network (we freeze the 12 first layers)\n",
        "#You can personnalize your hyperparameter file (hyp.custom.airportscanner.yaml)\n",
        "!python train.py \\\n",
        "--batch 32 \\\n",
        "--epochs 100 \\\n",
        "--data /content/yolov5/datasets/airportscanner/dataset.airportscanner.yaml \\\n",
        "--weights /content/yolov5/yolov5m6_airportIoU05/initial/weights/best.pt\\\n",
        "--optimizer Adam \\\n",
        "--cache \\\n",
        "--hyp /content/yolov5/datasets/airportscanner/hyp.custom.airportscanner.headtraining.yaml\\\n",
        "--project 'yolov5m6_airportscanner'\\\n",
        "--name 'FrozenTrain'\\ \n",
        "--freeze 12 "
      ],
      "metadata": {
        "id": "ehXGwSSwB-ny"
      },
      "execution_count": null,
      "outputs": []
    },
    {
      "cell_type": "code",
      "source": [
        "#Finetuning of the model. We unfreeze the whole network and take a small learning rate\n",
        "#Note that you need to modify the parameters (the learning rate at least) in the hyp.custom.airportscanner.yaml file\n",
        "!python train.py \\\n",
        "--batch 32 \\\n",
        "--epochs 100 \\\n",
        "--data /content/yolov5/datasets/airportscanner/dataset.airportscanner.yaml \\\n",
        "--weights /content/yolov5/yolov5m6_airportIoU05/initial/weights/best.pt\\\n",
        "--optimizer Adam \\\n",
        "--cache \\\n",
        "--hyp /content/yolov5/datasets/airportscanner/hyp.custom.airportscanner.finetuning.yaml\\\n",
        "--project 'yolov5m6_airportscanner'\\\n",
        "--name 'Finetuning'\n"
      ],
      "metadata": {
        "id": "VhwNmvOVA7iI"
      },
      "execution_count": null,
      "outputs": []
    },
    {
      "cell_type": "markdown",
      "source": [
        "#Training monitoring"
      ],
      "metadata": {
        "id": "-Bo26seKv0ad"
      }
    },
    {
      "cell_type": "code",
      "source": [
        "#To visualize the training on tensorboard dev\n",
        "#logdir = precise the path to the result of the run\n",
        "#name = name of your experiment\n",
        "#description = your description\n",
        "#one_shot = means that it stops the workflow once everything is uploaded\n"
      ],
      "metadata": {
        "id": "osb3sC4d1RTW"
      },
      "execution_count": null,
      "outputs": []
    },
    {
      "cell_type": "code",
      "source": [
        "!tensorboard dev upload --logdir runs/train \\\n",
        "  --name \"YOLOv5m6\" \\\n",
        "  --description \"Scenario_14_IoU_theshold03\" \\\n",
        "  --one_shot"
      ],
      "metadata": {
        "colab": {
          "base_uri": "https://localhost:8080/"
        },
        "id": "Ofjs7DHCkp7z",
        "outputId": "d58055e7-91c9-43b4-cde3-5fb8466ff858"
      },
      "execution_count": null,
      "outputs": [
        {
          "output_type": "stream",
          "name": "stdout",
          "text": [
            "\n",
            "***** TensorBoard Uploader *****\n",
            "\n",
            "This will upload your TensorBoard logs to https://tensorboard.dev/ from\n",
            "the following directory:\n",
            "\n",
            "runs/train\n",
            "\n",
            "This TensorBoard will be visible to everyone. Do not upload sensitive\n",
            "data.\n",
            "\n",
            "Your use of this service is subject to Google's Terms of Service\n",
            "<https://policies.google.com/terms> and Privacy Policy\n",
            "<https://policies.google.com/privacy>, and TensorBoard.dev's Terms of Service\n",
            "<https://tensorboard.dev/policy/terms/>.\n",
            "\n",
            "This notice will not be shown again while you are logged into the uploader.\n",
            "To log out, run `tensorboard dev auth revoke`.\n",
            "\n",
            "Continue? (yes/NO) yes\n",
            "\n",
            "To sign in with the TensorBoard uploader:\n",
            "\n",
            "1. On your computer or phone, visit:\n",
            "\n",
            "   https://www.google.com/device\n",
            "\n",
            "2. Sign in with your Google account, then enter:\n",
            "\n",
            "   TTH-KFR-TQP\n",
            "\n",
            "\n",
            "\n",
            "New experiment created. View your TensorBoard at: https://tensorboard.dev/experiment/HZQEaOR4Qh65u93OuMNC2A/\n",
            "\n",
            "\u001b[1m[2023-05-09T03:34:38]\u001b[0m Started scanning logdir.\n",
            "\u001b[1m[2023-05-09T03:34:41]\u001b[0m Total uploaded: 1664 scalars, 0 tensors, 2 binary objects (573.6 kB)\n",
            "\u001b[1m[2023-05-09T03:34:41]\u001b[0m Done scanning logdir.\n",
            "\n",
            "\n",
            "Done. View your TensorBoard at https://tensorboard.dev/experiment/HZQEaOR4Qh65u93OuMNC2A/\n"
          ]
        }
      ]
    }
  ]
}